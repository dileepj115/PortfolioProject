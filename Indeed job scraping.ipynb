{
 "cells": [
  {
   "cell_type": "code",
   "execution_count": null,
   "id": "636f66d0",
   "metadata": {},
   "outputs": [],
   "source": [
    "# importing Libraries\n",
    "from bs4 import BeautifulSoup\n",
    "import requests\n",
    "import time\n",
    "import datetime\n",
    "import pandas as pd\n",
    "import smtplib"
   ]
  },
  {
   "cell_type": "code",
   "execution_count": null,
   "id": "485004fc",
   "metadata": {},
   "outputs": [],
   "source": [
    "def extract(page):\n",
    "    headers = {'User-Agent':'Mozilla/5.0 (Windows NT 10.0; Win64; x64) AppleWebKit/537.36 (KHTML, like Gecko) Chrome/92.0.4515.159 Safari/537.36'}\n",
    "    URL = f'https://au.indeed.com/jobs?q=analyst&l=Canberra+ACT&start={page}'\n",
    "    r = requests.get(URL, headers)\n",
    "    soup = BeautifulSoup(r.content, 'html.parser')\n",
    "    return soup\n",
    "\n",
    "def transform(soup):\n",
    "    divs = soup.find_all('div', class_ = 'job_seen_beacon')\n",
    "    for item in divs:\n",
    "        Title = item.find('h2').get_text()\n",
    "        Company = item.find('span', class_ = 'companyName').get_text()\n",
    "        try:\n",
    "            salary = item.find('span', class_ = 'salary-snippet').get_text()\n",
    "        except:\n",
    "            salary = ''\n",
    "        \n",
    "        \n",
    "        job = {\n",
    "            'Title':Title,\n",
    "            'Company':Company,\n",
    "            'Salary':salary\n",
    "        }\n",
    "        joblist.append(job)\n",
    "        #print(company)\n",
    "        #print(title)\n",
    "    return\n",
    "\n",
    "joblist = []\n",
    "\n",
    "for i in range (0,70,10):\n",
    "    print(f'Getting page, {i}')\n",
    "    c = extract(0)\n",
    "    transform(c)\n",
    "\n",
    "df = pd.DataFrame(joblist)\n",
    "print(df.head())\n",
    "\n",
    "#df.to_csv('Indeed job list.csv')\n"
   ]
  },
  {
   "cell_type": "code",
   "execution_count": null,
   "id": "24a7ce2c",
   "metadata": {},
   "outputs": [],
   "source": []
  },
  {
   "cell_type": "code",
   "execution_count": null,
   "id": "e67568b7",
   "metadata": {},
   "outputs": [],
   "source": []
  }
 ],
 "metadata": {
  "kernelspec": {
   "display_name": "Python 3",
   "language": "python",
   "name": "python3"
  },
  "language_info": {
   "codemirror_mode": {
    "name": "ipython",
    "version": 3
   },
   "file_extension": ".py",
   "mimetype": "text/x-python",
   "name": "python",
   "nbconvert_exporter": "python",
   "pygments_lexer": "ipython3",
   "version": "3.8.8"
  }
 },
 "nbformat": 4,
 "nbformat_minor": 5
}
